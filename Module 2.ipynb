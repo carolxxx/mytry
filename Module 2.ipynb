{
 "cells": [
  {
   "cell_type": "markdown",
   "metadata": {},
   "source": [
    "# STAT 628 Module 2 Report"
   ]
  },
  {
   "cell_type": "markdown",
   "metadata": {},
   "source": [
    "_Yanqi Huang_ _Huiyu Jiang_ _Xinjie Ye_"
   ]
  },
  {
   "cell_type": "markdown",
   "metadata": {},
   "source": [
    "## Introduction"
   ]
  },
  {
   "cell_type": "markdown",
   "metadata": {},
   "source": [
    "**_Yelp_** is an American corporation headquartered in San Francisco. The **_Yelp.com_** and the **_Yelp_** mobile app, which pubish customers' reviews about local businesses and provide online reservation service, are owned by the corporation. Our _Yelp_ dataset is a part of the **_Yelp Dataset Challenge_**. The project explores the relationship between text, rate and other attributes of a review based on the dataset."
   ]
  },
  {
   "cell_type": "markdown",
   "metadata": {},
   "source": [
    "## Background of Yelp Dataset"
   ]
  },
  {
   "cell_type": "markdown",
   "metadata": {},
   "source": [
    "The Yelp dataset we used in our project is derived from **_Yelp Dataset Challenge_**, which encourages students to conduct research and analysis on its dataset. The challenge usually contains photo classification, natural language processing & sentiments a analysis and graph mining. \n",
    "\n",
    "Our dataset consisting of 9 attributes has about 1.5 million records. The 8 attributes are stars of the review, name of the business, review text, date of the review, city in which the business is located, longitude , latitude and business categories. "
   ]
  },
  {
   "cell_type": "markdown",
   "metadata": {},
   "source": [
    "Our project aims at exploring the sentiments contained by reviews and developing a reasonable and practical model to predict stars given by customers."
   ]
  },
  {
   "cell_type": "markdown",
   "metadata": {},
   "source": [
    "## Model Regression"
   ]
  },
  {
   "cell_type": "markdown",
   "metadata": {},
   "source": [
    "### Text Porcess"
   ]
  },
  {
   "cell_type": "markdown",
   "metadata": {},
   "source": [
    "**Generating Sentimental Words and Symbols List:** Our method is using some meaningful words and punctuations to grade each review. We aim at generating a sentimental words list initially. Because the original dataset is too large, we ramdomly sample 100,000 reviews as the source. The first step is tansfering all \"n't\" to \"not\". Punctuations are also deleted and capital letters are converted to lower-case letters. Then calculate all words' frequency accroding to review stars. Below is some typical samples."
   ]
  },
  {
   "cell_type": "markdown",
   "metadata": {},
   "source": [
    "<img src=\"float.png\">|<img src=\"heaven.png\">"
   ]
  },
  {
   "cell_type": "markdown",
   "metadata": {},
   "source": [
    "According to the plots above, we know that the key word usually have a clear tendency in distribution. Negative words appear in low rating reviews more, while positive words have a high frequency in 4 and 5 stars reviews. And words have a distribution, which has a shape similar to bell and the peak around 3 stars are defined as neutral words. What's more, the words having concave distributions usually express extreme emotions because they apear in 1 and 5 stars reviews more frequently. It's easy to find that these meaningful words have a common feature, their frequencies of each star vary a lot."
   ]
  },
  {
   "cell_type": "markdown",
   "metadata": {},
   "source": [
    "The way to select this knid of useful word is to calculate frequencies and variance of frequencies. "
   ]
  },
  {
   "cell_type": "code",
   "execution_count": null,
   "metadata": {},
   "outputs": [],
   "source": []
  }
 ],
 "metadata": {
  "kernelspec": {
   "display_name": "Python 3",
   "language": "python",
   "name": "python3"
  },
  "language_info": {
   "codemirror_mode": {
    "name": "ipython",
    "version": 3
   },
   "file_extension": ".py",
   "mimetype": "text/x-python",
   "name": "python",
   "nbconvert_exporter": "python",
   "pygments_lexer": "ipython3",
   "version": "3.6.4"
  }
 },
 "nbformat": 4,
 "nbformat_minor": 2
}
